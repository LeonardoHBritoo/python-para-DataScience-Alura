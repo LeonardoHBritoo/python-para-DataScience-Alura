{
 "cells": [
  {
   "cell_type": "code",
   "execution_count": 4,
   "metadata": {},
   "outputs": [
    {
     "name": "stdout",
     "output_type": "stream",
     "text": [
      "23.0\n",
      "O resultado é : ímpar ,positivo ,inteiro\n"
     ]
    }
   ],
   "source": [
    "num1 = float(input('digite o primeiro número'))\n",
    "num2 = float(input('digite o segundo número'))\n",
    "op = input(\"\"\"qual operação deseja realizar?\n",
    "           1 - soma\n",
    "           2 - subtração\n",
    "           3 - divisão\n",
    "           4 - multiplicação\n",
    "           \n",
    "           \"\"\")\n",
    "if op == '1':\n",
    "    resultado = num1+num2\n",
    "    print(resultado)\n",
    "elif op == '2':\n",
    "    resultado = num1-num2\n",
    "    print(resultado)\n",
    "elif op == '3':\n",
    "    resultado = num1/num2\n",
    "    print(resultado)\n",
    "elif op == '4':\n",
    "    resultado = num1*num2\n",
    "    print(resultado)\n",
    "else:\n",
    "    print(\"operação inválida\")\n",
    "if resultado%2 == 0 :\n",
    "    parimpar = 'par'\n",
    "else:\n",
    "    parimpar ='ímpar'\n",
    "if resultado > 0:\n",
    "    posineg = 'positivo'\n",
    "else:\n",
    "    posineg = 'negativo'\n",
    "    \n",
    "if resultado%1 == 0:\n",
    "    intdec = 'inteiro'\n",
    "else:\n",
    "    intdec ='decimal'\n",
    "opções ='1234'\n",
    "if op in opções:\n",
    "    print(f'O resultado é : {parimpar} ,{posineg} ,{intdec}')\n",
    "\n"
   ]
  },
  {
   "cell_type": "code",
   "execution_count": 6,
   "metadata": {},
   "outputs": [
    {
     "name": "stdout",
     "output_type": "stream",
     "text": [
      "Não é um triângulo\n"
     ]
    }
   ],
   "source": [
    "a = float(input(\"digite o lado\"))\n",
    "b = float(input(\"digite o lado\"))\n",
    "c = float(input(\"digite o lado\"))\n",
    "if (a+b) > c and b+c > a and c+a > b:\n",
    "    if a == c ==b :\n",
    "        print(\"Triângulo equilátero\")\n",
    "    elif a!=b and b!=c and c!=a:\n",
    "        print(\"Triângulo escaleno\")\n",
    "    else:\n",
    "        print('triângulo Isóceles')\n",
    "else:\n",
    "    print('Não é um triângulo')"
   ]
  },
  {
   "cell_type": "code",
   "execution_count": 13,
   "metadata": {},
   "outputs": [
    {
     "name": "stdout",
     "output_type": "stream",
     "text": [
      "O valor a ser pago é : R$47.50\n"
     ]
    }
   ],
   "source": [
    "Preço_diesel = 2.00\n",
    "preço_etanol =1.70\n",
    "combustível = input('Combustível [D - Diesel /E - Etanol]').upper()\n",
    "Litros = float(input(\"Quantidade em Litros\"))\n",
    "if combustível == 'D':\n",
    "    if Litros <= 15:\n",
    "        print(f'O valor a ser pago é : R$ {Litros*Preço_diesel*(1-0.03):,.2F}')\n",
    "    else:\n",
    "        print(f'O valor a ser pago é : R$ {Litros*Preço_diesel*(1-0.05):,.2F}')\n",
    "elif combustível == 'E':\n",
    "    if Litros <= 15:\n",
    "        print(f'O valor a ser pago é : R$ {Litros*preço_etanol*(1-0.02):,.2F}')\n",
    "    else:\n",
    "        print(f'O valor a ser pago é : R$ {Litros*preço_etanol*(1-0.04):,.2F}')\n",
    "else:\n",
    "    print('Valor inválido!')\n"
   ]
  },
  {
   "cell_type": "code",
   "execution_count": 18,
   "metadata": {},
   "outputs": [
    {
     "name": "stdout",
     "output_type": "stream",
     "text": [
      "corte de gastos.\n"
     ]
    },
    {
     "ename": "",
     "evalue": "",
     "output_type": "error",
     "traceback": [
      "\u001b[1;31mThe Kernel crashed while executing code in the the current cell or a previous cell. Please review the code in the cell(s) to identify a possible cause of the failure. Click <a href='https://aka.ms/vscodeJupyterKernelCrash'>here</a> for more info. View Jupyter <a href='command:jupyter.viewOutput'>log</a> for further details."
     ]
    }
   ],
   "source": [
    "val1 = float(input('vendas 2022'))\n",
    "val2 = float(input('valor 2023'))\n",
    "variação = ((val2 -val1)/val1)*100\n",
    "if variação >= 20:\n",
    "    print(' bonificação para o time de vendas.') \n",
    "elif variação >= 2:\n",
    "    print(\"pequena bonificação para time de vendas.\")\n",
    "elif variação >= -10:\n",
    "    print('planejamento de políticas de incentivo às vendas.')\n",
    "else:\n",
    "    print('corte de gastos.')\n"
   ]
  },
  {
   "cell_type": "code",
   "execution_count": 1,
   "metadata": {},
   "outputs": [
    {
     "name": "stdout",
     "output_type": "stream",
     "text": [
      "Data é inválida\n"
     ]
    }
   ],
   "source": [
    "data = input('Digite uma data (DD/MM/AAAA): ')  # 20/04/1996\n",
    "listadata = data.split('/')\n",
    "dmax = 0\n",
    "dicmes = {'01': 31, '02': 28, '03': 31, '04': 30, '05': 31, '06': 30, '07': 31, '08': 31, '09': 30, '10': 31, '11': 30, '12': 31}\n",
    "\n",
    "for i in range(3):\n",
    "    listadata[i] = int(listadata[i])\n",
    "\n",
    "if 1 <= listadata[1] <= 12:\n",
    "    if listadata[2] % 4 == 0:\n",
    "        dicmes['02'] = 29\n",
    "    for i, j in dicmes.items():\n",
    "        if str(listadata[1]) == i:\n",
    "            dmax = int(j)\n",
    "    if 1 <= listadata[0] <= dmax:\n",
    "        print('Data é Válida')\n",
    "    else:\n",
    "        print('Data é inválida')\n",
    "else:\n",
    "    print('Data é inválida')\n"
   ]
  }
 ],
 "metadata": {
  "kernelspec": {
   "display_name": "Python 3",
   "language": "python",
   "name": "python3"
  },
  "language_info": {
   "codemirror_mode": {
    "name": "ipython",
    "version": 3
   },
   "file_extension": ".py",
   "mimetype": "text/x-python",
   "name": "python",
   "nbconvert_exporter": "python",
   "pygments_lexer": "ipython3",
   "version": "3.11.5"
  },
  "orig_nbformat": 4
 },
 "nbformat": 4,
 "nbformat_minor": 2
}
